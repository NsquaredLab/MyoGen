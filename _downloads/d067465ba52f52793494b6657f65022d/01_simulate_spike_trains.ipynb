{
  "cells": [
    {
      "cell_type": "code",
      "execution_count": null,
      "metadata": {
        "collapsed": false
      },
      "outputs": [],
      "source": [
        "%matplotlib inline"
      ]
    },
    {
      "cell_type": "markdown",
      "metadata": {},
      "source": [
        "\n# Motor Unit Spike Trains\n\nAfter generating the **recruitment thresholds**, we can simulate the **spike trains** of the motor units.\n\n<div class=\"alert alert-info\"><h4>Note</h4><p>The spike trains are simulated using the **NEURON simulator** wrapped by **PyNN**.\n    This way we can simulate accurately the biophysical properties of the motor units.</p></div>\n"
      ]
    },
    {
      "cell_type": "markdown",
      "metadata": {},
      "source": [
        "## Import Libraries\n\n.. important::\n   In **MyoGen** all **random number generation** is handled by the ``RANDOM_GENERATOR`` object.\n\n   This object is a wrapper around the ``numpy.random`` module and is used to generate random numbers.\n\n   It is intended to be used with the following API:\n\n```python\nfrom myogen import simulator, RANDOM_GENERATOR\n```\n   To change the default seed, use ``set_random_seed``:\n\n```python\nfrom myogen import set_random_seed\nset_random_seed(42)\n```\n"
      ]
    },
    {
      "cell_type": "code",
      "execution_count": null,
      "metadata": {
        "collapsed": false
      },
      "outputs": [],
      "source": [
        "from pathlib import Path\n\nimport joblib\nimport numpy as np\nfrom matplotlib import pyplot as plt\n\nfrom myogen import simulator, RANDOM_GENERATOR\nfrom myogen.utils import load_nmodl_files\nfrom myogen.utils.currents import create_trapezoid_current\nfrom myogen.utils.plotting import plot_spike_trains"
      ]
    },
    {
      "cell_type": "markdown",
      "metadata": {},
      "source": [
        "## Define Parameters\nIn this example we will simulate a **motor pool** using the **recruitment thresholds** generated in the previous example.\n\nThis motor pool will have **two different randomly generated trapezoidal ramp currents** injected into the motor units.\n\nThe parameters of the input current are:\n\n- ``n_pools``: Number of distinct motor neuron pools\n- ``timestep``: Simulation timestep in ms (high resolution)\n- ``simulation_time``: Total simulation duration in ms\n\nTo simulate realistic spike trains, we will also add a **common noise current source** to each neuron.\nThe parameters of the noise current are:\n\n- ``noise_mean``: Mean noise current in nA\n- ``noise_stdev``: Standard deviation of noise current in nA\n\n"
      ]
    },
    {
      "cell_type": "code",
      "execution_count": null,
      "metadata": {
        "collapsed": false
      },
      "outputs": [],
      "source": [
        "n_pools = 2  # Number of distinct motor neuron pools\n\ntimestep = 0.05  # Simulation timestep in ms (high resolution)\nsimulation_time = 2000  # Total simulation duration in ms\n\nnoise_mean = 26  # Mean noise current in nA\nnoise_stdev = 20  # Standard deviation of noise current in nA"
      ]
    },
    {
      "cell_type": "markdown",
      "metadata": {},
      "source": [
        "## Create Input Currents\n\nTo drive the motor units, we use a **common input current profile**.\n\nIn this example, we use a **trapezoid-shaped input current** which is generated using the ``create_trapezoid_current`` function.\n\n<div class=\"alert alert-info\"><h4>Note</h4><p>More convenient functions for generating input current profiles are available in the ``myogen.utils.currents`` module.</p></div>\n\n"
      ]
    },
    {
      "cell_type": "code",
      "execution_count": null,
      "metadata": {
        "collapsed": false
      },
      "outputs": [],
      "source": [
        "# Calculate number of time points\nt_points = int(simulation_time / timestep)\n\n# Generate random parameters for each pool's input current\namplitude_range = list(RANDOM_GENERATOR.uniform(100, 150, size=n_pools))\nrise_time_ms = list(RANDOM_GENERATOR.uniform(100, 500, size=n_pools))\nplateau_time_ms = list(RANDOM_GENERATOR.uniform(100, 500, size=n_pools))\nfall_time_ms = list(RANDOM_GENERATOR.uniform(100, 500, size=n_pools))\n\nprint(f\"\\nInput current parameters:\")\nfor i in range(n_pools):\n    print(\n        f\"  Pool {i + 1}: amplitude={amplitude_range[i]:.1f} nA, \"\n        f\"rise={rise_time_ms[i]:.0f} ms, \"\n        f\"plateau={plateau_time_ms[i]:.0f} ms, \"\n        f\"fall={fall_time_ms[i]:.0f} ms\"\n    )\n\n# Create the input current matrix\ninput_current_matrix = create_trapezoid_current(\n    n_pools,\n    t_points,\n    timestep,\n    amplitudes__muV=amplitude_range,\n    rise_times__ms=rise_time_ms,\n    plateau_times__ms=plateau_time_ms,\n    fall_times__ms=fall_time_ms,\n    delays__ms=500.0,\n)\n\nprint(f\"\\nInput current matrix shape: {input_current_matrix.shape}\")"
      ]
    },
    {
      "cell_type": "markdown",
      "metadata": {},
      "source": [
        "## Create Motor Neuron Pools\n\nSince the **recruitment thresholds** are already generated, we can load them from the previous example using ``joblib``.\n\nAfterwards the custom files made for the ``NEURON`` simulator must be loaded.\n\n<div class=\"alert alert-info\"><h4>Note</h4><p>This step is required as ``NEURON`` does not support the simulation of motor units directly.\n\n  This is done using the ``load_nmodl_files`` function.</p></div>\n\nFinally, the **motor neuron pools** are created using the ``MotorNeuronPool`` object.\n\n<div class=\"alert alert-info\"><h4>Note</h4><p>The **MotorNeuronPool** object handles the simulation of the motor units.</p></div>\n\n\n"
      ]
    },
    {
      "cell_type": "code",
      "execution_count": null,
      "metadata": {
        "collapsed": false
      },
      "outputs": [],
      "source": [
        "save_path = Path(\"./results\")\n\n# Load recruitment thresholds\nrecruitment_thresholds = joblib.load(save_path / \"thresholds.pkl\")\n\n# Save input current matrix for later analysis\njoblib.dump(input_current_matrix, save_path / \"input_current_matrix.pkl\")\n\n# Load NEURON mechanism\nload_nmodl_files()\n\n# Create motor neuron pool\nmotor_neuron_pool = simulator.MotorNeuronPool(recruitment_thresholds)"
      ]
    },
    {
      "cell_type": "markdown",
      "metadata": {},
      "source": [
        "## Simulate Motor Unit Spike Trains\n\nThe **motor unit spike trains** are simulated using the ``generate_spike_trains`` method of the ``MotorNeuronPool`` object.\n\n"
      ]
    },
    {
      "cell_type": "code",
      "execution_count": null,
      "metadata": {
        "collapsed": false
      },
      "outputs": [],
      "source": [
        "spike_trains_matrix, active_neuron_indices, data = (\n    motor_neuron_pool.generate_spike_trains(\n        input_current__matrix=input_current_matrix,\n        timestep__ms=timestep,\n        noise_mean__nA=noise_mean,\n        noise_stdev__nA=noise_stdev,\n    )\n)\n\n# Save motor neuron pool for later analysis\njoblib.dump(motor_neuron_pool, save_path / \"motor_neuron_pool.pkl\")\n\nprint(f\"\\nSpike trains shape: {spike_trains_matrix.shape}\")\nprint(f\"  - {spike_trains_matrix.shape[0]} pools\")\nprint(f\"  - {spike_trains_matrix.shape[1]} neurons per pool\")\nprint(f\"  - {spike_trains_matrix.shape[2]} time points\\n\")"
      ]
    },
    {
      "cell_type": "markdown",
      "metadata": {},
      "source": [
        "## Calculate and Display Statistics\n\nIt might be of interest to calculate the **firing rates** of the motor units.\n\n<div class=\"alert alert-info\"><h4>Note</h4><p>The **firing rates** are calculated as the number of spikes divided by the simulation time.\n   The simulation time is in milliseconds, so we need to convert it to seconds.</p></div>\n\n"
      ]
    },
    {
      "cell_type": "code",
      "execution_count": null,
      "metadata": {
        "collapsed": false
      },
      "outputs": [],
      "source": [
        "# Calculate firing rates for each pool\nfiring_rates = np.zeros((n_pools, len(motor_neuron_pool.recruitment_thresholds)))\nfor pool_idx in range(n_pools):\n    for neuron_idx in range(len(motor_neuron_pool.recruitment_thresholds)):\n        spike_count = np.sum(spike_trains_matrix[pool_idx, neuron_idx, :])\n        firing_rates[pool_idx, neuron_idx] = spike_count / (simulation_time / 1000.0)\n\nprint(f\"\\nFiring rate statistics:\")\nfor pool_idx in range(n_pools):\n    active_neurons = np.sum(firing_rates[pool_idx, :] > 0)\n    mean_rate = np.mean(firing_rates[pool_idx, firing_rates[pool_idx, :] > 0])\n    max_rate = np.max(firing_rates[pool_idx, :])\n\n    print(\n        f\"  Pool {pool_idx + 1}: {active_neurons}/{len(motor_neuron_pool.recruitment_thresholds)} active neurons, \"\n        f\"mean rate: {mean_rate:.1f} Hz, max rate: {max_rate:.1f} Hz\"\n    )"
      ]
    },
    {
      "cell_type": "markdown",
      "metadata": {},
      "source": [
        "## Visualize Spike Trains\n\nThe **spike trains** can be visualized using the ``plot_spike_trains`` function.\n\n<div class=\"alert alert-info\"><h4>Note</h4><p>**Plotting helper functions** are available in the ``myogen.utils.plotting`` module.\n\n```python\nfrom myogen.utils.plotting import plot_spike_trains</p></div>\n```\n"
      ]
    },
    {
      "cell_type": "code",
      "execution_count": null,
      "metadata": {
        "collapsed": false
      },
      "outputs": [],
      "source": [
        "# Suppress font warnings to keep output clean\nimport warnings\nimport logging\n\nwarnings.filterwarnings(\"ignore\", message=\".*Font family.*not found.*\")\nwarnings.filterwarnings(\"ignore\", message=\".*findfont.*\")\nlogging.getLogger(\"matplotlib.font_manager\").setLevel(logging.ERROR)\n\nprint(\"Plotting spike trains...\")\nwith plt.xkcd():\n    _, ax = plt.subplots(figsize=(10, 6))\n    plot_spike_trains(\n        spike_trains__matrix=spike_trains_matrix,\n        timestep__ms=timestep,\n        axs=[ax],\n        pool_current__matrix=input_current_matrix,\n        pool_to_plot=[0],\n    )\nplt.tight_layout()\nplt.show()"
      ]
    }
  ],
  "metadata": {
    "kernelspec": {
      "display_name": "Python 3",
      "language": "python",
      "name": "python3"
    },
    "language_info": {
      "codemirror_mode": {
        "name": "ipython",
        "version": 3
      },
      "file_extension": ".py",
      "mimetype": "text/x-python",
      "name": "python",
      "nbconvert_exporter": "python",
      "pygments_lexer": "ipython3",
      "version": "3.12.7"
    }
  },
  "nbformat": 4,
  "nbformat_minor": 0
}