{
  "cells": [
    {
      "cell_type": "code",
      "execution_count": null,
      "metadata": {
        "collapsed": false
      },
      "outputs": [],
      "source": [
        "%matplotlib inline"
      ]
    },
    {
      "cell_type": "markdown",
      "metadata": {},
      "source": [
        "\n# Muscle Model\n\nThe **spike trains** alone are not enough to create **EMG signals**.\n\nTo create **EMG signals**, we need to create a **muscle model** that will distribute the **motor units** and **fibers** within the muscle volume.\n"
      ]
    },
    {
      "cell_type": "markdown",
      "metadata": {},
      "source": [
        "## Import Libraries\n\n"
      ]
    },
    {
      "cell_type": "code",
      "execution_count": null,
      "metadata": {
        "collapsed": false
      },
      "outputs": [],
      "source": [
        "from pathlib import Path\n\nimport numpy as np\nimport matplotlib.pyplot as plt\nimport joblib\n\nfrom myogen import simulator\nfrom myogen.utils.plotting.muscle import plot_mf_centers, plot_innervation_areas_2d"
      ]
    },
    {
      "cell_type": "markdown",
      "metadata": {},
      "source": [
        "## Define Parameters\n\nThe **muscle model** is created using the **Muscle** object.\n\nThe **Muscle** object takes the following parameters:\n\n- ``recruitment_thresholds``: Recruitment thresholds of the motor units\n- ``radius``: Radius of the muscle in mm\n- ``fiber_density``: Fiber density per mm\u00b2\n- ``max_innervation_area_to_total_muscle_area__ratio``: Maximum innervation area to total muscle area ratio\n- ``grid_resolution``: Spatial resolution for muscle discretization\n\nSince the **recruitment thresholds** are already generated, we can load them from the previous example using ``joblib``.\n\n"
      ]
    },
    {
      "cell_type": "code",
      "execution_count": null,
      "metadata": {
        "collapsed": false
      },
      "outputs": [],
      "source": [
        "# Load recruitment thresholds\nsave_path = Path(\"./results\")\n\nrecruitment_thresholds = joblib.load(save_path / \"thresholds.pkl\")\n\n# Define muscle parameters for an FDI muscle\nmuscle_radius = 4.9  # Muscle radius in mm\nmean_fiber_length = 32  # Mean fiber length in mm\nfiber_length_variation = 3  # Fiber length variation (\u00b1) in mm\nfiber_density = 50  # Fiber density per mm\u00b2\n\n# Define simulation parameters\nmax_innervation_ratio = 1 / 4  # Maximum motor unit territory size\ngrid_resolution = 256  # Spatial resolution for muscle discretization"
      ]
    },
    {
      "cell_type": "markdown",
      "metadata": {},
      "source": [
        "## Create Muscle Model\n\n<div class=\"alert alert-info\"><h4>Note</h4><p>Depending on the parameters, the simulation can take a few minutes to run.\n\n   To **avoid running the simulation every time**, we can save the muscle model using ``joblib``.</p></div>\n\n"
      ]
    },
    {
      "cell_type": "code",
      "execution_count": null,
      "metadata": {
        "collapsed": false
      },
      "outputs": [],
      "source": [
        "# Create muscle model\nmuscle = simulator.Muscle(\n    recruitment_thresholds=recruitment_thresholds[::4],  # For faster simulation\n    radius__mm=muscle_radius,\n    fiber_density__fibers_per_mm2=fiber_density,\n    max_innervation_area_to_total_muscle_area__ratio=max_innervation_ratio,\n    grid_resolution=grid_resolution,\n    autorun=True,\n)\n\n# Save muscle model for future use\njoblib.dump(muscle, save_path / \"muscle_model.pkl\")\n\n# Display muscle statistics\ntotal_fibers = sum(muscle.resulting_number_of_innervated_fibers)\n\nprint(f\"\\nMuscle model statistics:\")\nprint(f\"  - Total muscle fibers: {total_fibers}\")\nprint(f\"  - Mean fibers per MU: {total_fibers / len(recruitment_thresholds):.1f}\")\nprint(f\"  - Muscle cross-sectional area: {np.pi * muscle_radius**2:.1f} mm\u00b2\")"
      ]
    },
    {
      "cell_type": "markdown",
      "metadata": {},
      "source": [
        "## Visualize Muscle Fiber Centers\n\nThe **fiber centers** are the centers of the fibers that are innervated by the motor units.\n\n<div class=\"alert alert-info\"><h4>Note</h4><p>The **fiber centers** have been precalculated from a Voronoi tessellation of the muscle volume.\n   Then depending on the **fiber density**, the **fiber centers** are distributed within the muscle volume.</p></div>\n\n"
      ]
    },
    {
      "cell_type": "code",
      "execution_count": null,
      "metadata": {
        "collapsed": false
      },
      "outputs": [],
      "source": [
        "plt.figure(figsize=(6, 6))\n\nwith plt.xkcd():\n    plot_mf_centers(muscle, ax=plt.gca())\nplt.title(\"Motor Unit Fiber Centers\")\nplt.xlabel(\"X Position (mm)\")\nplt.ylabel(\"Y Position (mm)\")\nplt.axis(\"equal\")\n\nplt.tight_layout()\nplt.show()"
      ]
    },
    {
      "cell_type": "markdown",
      "metadata": {},
      "source": [
        "## Visualize Motor Unit Innervation Areas\n\nDisplay the spatial organization of motor units and their innervation areas.\n\n<div class=\"alert alert-info\"><h4>Note</h4><p>The **innervation areas** are the areas where the motor units are innervated.\n   They are calculated using the **recruitment thresholds** and the **fiber density**.</p></div>\n\n"
      ]
    },
    {
      "cell_type": "code",
      "execution_count": null,
      "metadata": {
        "collapsed": false
      },
      "outputs": [],
      "source": [
        "plt.figure(figsize=(6, 6))\n\nselected_indices = np.arange(25)[::-1]\nwith plt.xkcd():\n    plot_innervation_areas_2d(muscle, indices_to_plot=selected_indices, ax=plt.gca())\nplt.title(\"Motor Unit Innervation Areas\")\nplt.xlabel(\"X Position (mm)\")\nplt.ylabel(\"Y Position (mm)\")\nplt.axis(\"equal\")\n\nplt.tight_layout()\nplt.show()"
      ]
    }
  ],
  "metadata": {
    "kernelspec": {
      "display_name": "Python 3",
      "language": "python",
      "name": "python3"
    },
    "language_info": {
      "codemirror_mode": {
        "name": "ipython",
        "version": 3
      },
      "file_extension": ".py",
      "mimetype": "text/x-python",
      "name": "python",
      "nbconvert_exporter": "python",
      "pygments_lexer": "ipython3",
      "version": "3.12.7"
    }
  },
  "nbformat": 4,
  "nbformat_minor": 0
}