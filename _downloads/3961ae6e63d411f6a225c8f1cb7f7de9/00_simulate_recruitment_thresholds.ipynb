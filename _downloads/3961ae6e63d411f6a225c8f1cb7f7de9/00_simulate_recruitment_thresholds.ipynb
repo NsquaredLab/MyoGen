{
  "cells": [
    {
      "cell_type": "code",
      "execution_count": null,
      "metadata": {
        "collapsed": false
      },
      "outputs": [],
      "source": [
        "%matplotlib inline"
      ]
    },
    {
      "cell_type": "markdown",
      "metadata": {},
      "source": [
        "\n# Recruitment Thresholds\n\nThe first step in using **MyoGen** is to generate the **recruitment thresholds** of the **motor units** (MUs).\n\n<div class=\"alert alert-info\"><h4>Note</h4><p>A **recruitment threshold** is the minimum force required to activate a MU.\n\n    In **MyoGen**, the threshold is defined between ``0`` and ``1``, where ``0`` is the minimum force required to activate a MU and ``1`` is the maximum force required to activate a MU.</p></div>\n\n**MyoGen** offers **4 different models** to generate the recruitment thresholds:\n\n* **Fuglevand** model: Classic exponential distribution (*Fuglevand et al., 1993*)\n* **De Luca** model: Slope-corrected exponential distribution (*De Luca & Contessa, 2012*)\n* **Konstantin** model: Exponential with explicit maximum threshold control (*Konstantin et al., 2019*)\n* **Combined** model: Hybrid approach combining De Luca shape with Konstantin scaling (*Ours*)\n"
      ]
    },
    {
      "cell_type": "markdown",
      "metadata": {},
      "source": [
        "## Import Libraries\n\n"
      ]
    },
    {
      "cell_type": "code",
      "execution_count": null,
      "metadata": {
        "collapsed": false
      },
      "outputs": [],
      "source": [
        "from pathlib import Path\n\nimport joblib\n\nfrom myogen import simulator"
      ]
    },
    {
      "cell_type": "markdown",
      "metadata": {},
      "source": [
        "## Define Parameters\nEach recruitment threshold simulation is defined by the following parameters:\n\n- ``N``: Number of motor units in the pool\n- ``recruitment_range``: Recruitment range (max_threshold / min_threshold)\n\n<div class=\"alert alert-info\"><h4>Note</h4><p>The **recruitment_range** is defined as the ratio between the ``maximum`` and ``minimum`` recruitment thresholds.\n   For example, if the **recruitment_range** is ``50``, the biggest MU will have a **recruitment threshold** ``50`` times bigger than the smallest MU.</p></div>\n\nWith some models you also need to define additional parameters:\n\n- De Luca model:\n\n  - ``deluca__slopes``: Different slope values to demonstrate variety\n\n- Konstantin model:\n\n  - ``konstantin__max_threshold``: Maximum recruitment threshold\n\n- Combined model:\n\n  - ``deluca__slopes``: Different slope values to demonstrate variety\n  - ``konstantin__max_threshold``: Maximum recruitment threshold\n\n"
      ]
    },
    {
      "cell_type": "code",
      "execution_count": null,
      "metadata": {
        "collapsed": false
      },
      "outputs": [],
      "source": [
        "n_motor_units = 100  # Number of motor units in the pool\nrecruitment_range = 50  # Recruitment range (max_threshold / min_threshold)\n\n# Model specific parameters\nfuglevand_params = {}  # No additional parameters needed\n\ndeluca_slopes = [0.001, 5, 25, 50]  # Different slope values to demonstrate variety\n\nkonstantin_max_threshold = 1.0  # Maximum recruitment threshold\n\ncombined_slopes = [0.001, 5, 25, 50]  # Slopes for combined model\ncombined_max_threshold = 1.0  # Maximum threshold for combined model"
      ]
    },
    {
      "cell_type": "markdown",
      "metadata": {},
      "source": [
        "## Generate Recruitment Thresholds\n\nGenerating the recruitment thresholds is done by calling the ``generate_mu_recruitment_thresholds`` function.\n\n.. important::\n   **MyoGen** is intended to be used with the following API:\n\n```python\nfrom myogen import simulator\n```\n"
      ]
    },
    {
      "cell_type": "code",
      "execution_count": null,
      "metadata": {
        "collapsed": false
      },
      "outputs": [],
      "source": [
        "# load_nmodl_files()\n\n# Create results directory\nsave_path = Path(\"./results\")\nsave_path.mkdir(exist_ok=True)\n\n# 1. Fuglevand Model\nrt_fuglevand, rtz_fuglevand = simulator.generate_mu_recruitment_thresholds(\n    N=n_motor_units, recruitment_range=recruitment_range, mode=\"fuglevand\"\n)\n\n# 2. De Luca Model with different slopes\ndeluca_results = {}\nfor slope in deluca_slopes:\n    rt, _ = simulator.generate_mu_recruitment_thresholds(\n        N=n_motor_units,\n        recruitment_range=recruitment_range,\n        deluca__slope=slope,\n        mode=\"deluca\",\n    )\n    deluca_results[slope] = rt\n\n# 3. Konstantin Model\nrt_konstantin, rtz_konstantin = simulator.generate_mu_recruitment_thresholds(\n    N=n_motor_units,\n    recruitment_range=recruitment_range,\n    konstantin__max_threshold=konstantin_max_threshold,\n    mode=\"konstantin\",\n)\n\n# 4. Combined Model with different slopes\ncombined_results = {}\nfor slope in combined_slopes:\n    rt, _ = simulator.generate_mu_recruitment_thresholds(\n        N=n_motor_units,\n        recruitment_range=recruitment_range,\n        deluca__slope=slope,\n        konstantin__max_threshold=combined_max_threshold,\n        mode=\"combined\",\n    )\n    combined_results[slope] = rt"
      ]
    },
    {
      "cell_type": "markdown",
      "metadata": {},
      "source": [
        "## Save Recruitment Thresholds\n\n<div class=\"alert alert-info\"><h4>Note</h4><p>All **MyoGen** objects can be saved to a file using ``joblib``. This is useful to **avoid re-running expensive simulations** if you need to use the same parameters.</p></div>\n\n"
      ]
    },
    {
      "cell_type": "code",
      "execution_count": null,
      "metadata": {
        "collapsed": false
      },
      "outputs": [],
      "source": [
        "joblib.dump(combined_results[50], save_path / \"thresholds.pkl\")"
      ]
    },
    {
      "cell_type": "markdown",
      "metadata": {},
      "source": [
        "## Plot Recruitment Thresholds\n\nThe recruitment thresholds can be plotted using the ``plot_recruitment_thresholds`` function.\n\n<div class=\"alert alert-info\"><h4>Note</h4><p>**Plotting helper functions** are available in the ``myogen.utils.plotting`` module.\n\n```python\nfrom myogen.utils.plotting import plot_recruitment_thresholds</p></div>\n```\n"
      ]
    },
    {
      "cell_type": "code",
      "execution_count": null,
      "metadata": {
        "collapsed": false
      },
      "outputs": [],
      "source": [
        "# Suppress font warnings to keep output clean\nimport warnings\nimport logging\n\nwarnings.filterwarnings(\"ignore\", message=\".*Font family.*not found.*\")\nwarnings.filterwarnings(\"ignore\", message=\".*findfont.*\")\nlogging.getLogger(\"matplotlib.font_manager\").setLevel(logging.ERROR)\n\nfrom myogen.utils.plotting import plot_recruitment_thresholds\nfrom matplotlib import pyplot as plt"
      ]
    },
    {
      "cell_type": "markdown",
      "metadata": {},
      "source": [
        "### Fuglevand Model Visualization\n\nThe Fuglevand model uses a simple exponential distribution for recruitment\nthresholds. This is the classic approach from Fuglevand et al. (1993).\n\n"
      ]
    },
    {
      "cell_type": "code",
      "execution_count": null,
      "metadata": {
        "collapsed": false
      },
      "outputs": [],
      "source": [
        "print(\"Plotting Fuglevand model...\")\nwith plt.xkcd():\n    _, ax = plt.subplots(figsize=(10, 6))\n    plot_recruitment_thresholds(rt_fuglevand, [ax], model_name=\"Fuglevand\", colors=\"#90b8e0\")\nplt.tight_layout()\nplt.show()"
      ]
    },
    {
      "cell_type": "markdown",
      "metadata": {},
      "source": [
        "### De Luca Model Visualization\n\nThe De Luca model includes a slope correction parameter that allows control\nover the shape of the recruitment threshold distribution.\n\n"
      ]
    },
    {
      "cell_type": "code",
      "execution_count": null,
      "metadata": {
        "collapsed": false
      },
      "outputs": [],
      "source": [
        "print(\"Plotting De Luca model...\")\nwith plt.xkcd():\n    _, ax = plt.subplots(figsize=(10, 6))\n    plot_recruitment_thresholds(\n        deluca_results,\n        [ax],\n        model_name=\"De Luca\",\n        colors=[\"#90b8e0\", \"#af8bff\", \"#90b8e0\", \"#af8bff\"],\n    )\nplt.tight_layout()\nplt.show()"
      ]
    },
    {
      "cell_type": "markdown",
      "metadata": {},
      "source": [
        "### Konstantin Model Visualization\n\nThe Konstantin model provides explicit control over the maximum recruitment\nthreshold while maintaining physiological recruitment patterns.\n\n"
      ]
    },
    {
      "cell_type": "code",
      "execution_count": null,
      "metadata": {
        "collapsed": false
      },
      "outputs": [],
      "source": [
        "print(\"Plotting Konstantin model...\")\nwith plt.xkcd():\n    _, ax = plt.subplots(figsize=(10, 6))\n    plot_recruitment_thresholds(\n        rt_konstantin,\n        [ax],\n        model_name=\"Konstantin\",\n        y_max=konstantin_max_threshold,\n        colors=\"#90b8e0\",\n        markers=\"s\",\n    )\nplt.tight_layout()\nplt.show()"
      ]
    },
    {
      "cell_type": "markdown",
      "metadata": {},
      "source": [
        "### Combined Model Visualization\n\nThe Combined model merges De Luca's shape control with Konstantin's scaling,\noffering the most flexibility for custom recruitment patterns.\n\n"
      ]
    },
    {
      "cell_type": "code",
      "execution_count": null,
      "metadata": {
        "collapsed": false
      },
      "outputs": [],
      "source": [
        "print(\"Plotting Combined model...\")\nwith plt.xkcd():\n    _, ax = plt.subplots(figsize=(10, 6))\n    plot_recruitment_thresholds(\n        combined_results,\n        [ax],\n        model_name=\"Combined\",\n        y_max=combined_max_threshold,\n        colors=[\"#90b8e0\", \"#af8bff\", \"#90b8e0\", \"#af8bff\"],\n    )\nplt.tight_layout()\nplt.show()"
      ]
    }
  ],
  "metadata": {
    "kernelspec": {
      "display_name": "Python 3",
      "language": "python",
      "name": "python3"
    },
    "language_info": {
      "codemirror_mode": {
        "name": "ipython",
        "version": 3
      },
      "file_extension": ".py",
      "mimetype": "text/x-python",
      "name": "python",
      "nbconvert_exporter": "python",
      "pygments_lexer": "ipython3",
      "version": "3.12.7"
    }
  },
  "nbformat": 4,
  "nbformat_minor": 0
}