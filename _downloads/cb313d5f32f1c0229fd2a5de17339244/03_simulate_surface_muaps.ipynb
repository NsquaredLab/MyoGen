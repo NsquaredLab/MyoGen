{
  "cells": [
    {
      "cell_type": "code",
      "execution_count": null,
      "metadata": {
        "collapsed": false
      },
      "outputs": [],
      "source": [
        "%matplotlib inline"
      ]
    },
    {
      "cell_type": "markdown",
      "metadata": {},
      "source": [
        "\n# Surface Motor Unit Action Potentials\n\nAfter having created the **muscle model**, we can simulate the **surface EMG** by creating a **surface EMG model**.\n\nFirst step is to create **MUAPs** from the **muscle model**.\n\n<div class=\"alert alert-info\"><h4>Note</h4><p>The **MUAPs** are the **action potentials** of the **motor units** at the surface of the skin.</p></div>\n"
      ]
    },
    {
      "cell_type": "code",
      "execution_count": null,
      "metadata": {
        "collapsed": false
      },
      "outputs": [],
      "source": [
        "from pathlib import Path\n\nimport joblib\nimport matplotlib.pyplot as plt\nimport numpy as np\n\nfrom myogen import simulator\nfrom myogen.utils.plotting import plot_muap_grid"
      ]
    },
    {
      "cell_type": "markdown",
      "metadata": {},
      "source": [
        "## Define Parameters\n\nThe **surface EMG** is created using the **SurfaceEMG** object.\n\nThe **SurfaceEMG** object takes the following parameters:\n\n- ``muscle_model``: Muscle model\n- ``sampling_frequency``: Sampling frequency\n- ``electrode_grid_dimensions``: Electrode grid dimensions\n- ``inter_electrode_distance``: Inter-electrode distance\n- ``fat_thickness``: Fat thickness\n- ``skin_thickness``: Skin thickness\n\n"
      ]
    },
    {
      "cell_type": "code",
      "execution_count": null,
      "metadata": {
        "collapsed": false
      },
      "outputs": [],
      "source": [
        "# Define simulation parameters\nsampling_frequency = 2048.0  # Hz - standard for surface EMG\nelectrode_grid_size = (5, 5)\ninter_electrode_distance = 4.0  # mm - standard spacing\n\n# Define volume conductor parameters\nfat_thickness = 1.0  # mm\nskin_thickness = 1.0  # mm"
      ]
    },
    {
      "cell_type": "markdown",
      "metadata": {},
      "source": [
        "## Load Muscle Model\n\nLoad muscle model from previous example\n\n"
      ]
    },
    {
      "cell_type": "code",
      "execution_count": null,
      "metadata": {
        "collapsed": false
      },
      "outputs": [],
      "source": [
        "save_path = Path(\"./results\")\nmuscle = joblib.load(save_path / \"muscle_model.pkl\")"
      ]
    },
    {
      "cell_type": "markdown",
      "metadata": {},
      "source": [
        "## Create Surface EMG Model\n\nThe **SurfaceEMG** object is initialized with the **muscle model** and the **simulation parameters**.\n\n<div class=\"alert alert-info\"><h4>Note</h4><p>For simplicity, we only simulate the first motor unit.\n   This can be changed by modifying the ``MUs_to_simulate`` parameter.\n\n  This is to simulate the **surface EMG** from two different directions.</p></div>\n\n\n"
      ]
    },
    {
      "cell_type": "code",
      "execution_count": null,
      "metadata": {
        "collapsed": false
      },
      "outputs": [],
      "source": [
        "surface_emg = simulator.SurfaceEMG(\n    muscle_model=muscle,\n    sampling_frequency__Hz=sampling_frequency,\n    electrode_grid_dimensions__rows_cols=electrode_grid_size,\n    inter_electrode_distance__mm=inter_electrode_distance,\n    MUs_to_simulate=[0],\n    electrode_grid_center_positions=[(0, 0)],\n    fat_thickness__mm=fat_thickness,\n    skin_thickness__mm=skin_thickness,\n)"
      ]
    },
    {
      "cell_type": "markdown",
      "metadata": {},
      "source": [
        "## Simulate MUAPs\n\nTo generate the **MUAPs**, we need to run the ``simulate_muaps`` method of the **SurfaceEMG** object.\n\n"
      ]
    },
    {
      "cell_type": "code",
      "execution_count": null,
      "metadata": {
        "collapsed": false
      },
      "outputs": [],
      "source": [
        "# Run simulation with progress output\nmuaps = surface_emg.simulate_muaps(show_plots=False, verbose=False)\n\nprint(f\"\\nMUAP simulation completed!\")\nprint(f\"Generated MUAPs shape: {muaps.shape}\")\nprint(f\"  - {muaps.shape[0]} electrode position(s)\")\nprint(f\"  - {muaps.shape[1]} motor units\")\nprint(f\"  - {muaps.shape[2]}\u00d7{muaps.shape[3]} electrode grid\")\nprint(f\"  - {muaps.shape[4]} time samples\")\n\n# Save results\njoblib.dump(surface_emg, save_path / \"surface_emg.pkl\")"
      ]
    },
    {
      "cell_type": "markdown",
      "metadata": {},
      "source": [
        "## Plot MUAPs\n\nThe MUAPs can be plotted using the ``plot_muap_grid`` function.\n\n<div class=\"alert alert-info\"><h4>Note</h4><p>**Plotting helper functions** are available in the ``myogen.utils.plotting`` module.\n  The new API requires creating matplotlib axes and passing them to the plotting function.</p></div>\n\n"
      ]
    },
    {
      "cell_type": "code",
      "execution_count": null,
      "metadata": {
        "collapsed": false
      },
      "outputs": [],
      "source": [
        "# Concatenate MUAPs from all electrode positions and motor units\nmuaps_concatenated = np.concatenate(muaps)\nprint(f\"Concatenated MUAPs shape: {muaps_concatenated.shape}\")\n\n# Create subplot grid for each MUAP (matches electrode grid layout)\nn_muaps = muaps_concatenated.shape[0]\nelectrode_rows = muaps_concatenated.shape[1] \nelectrode_cols = muaps_concatenated.shape[2]\n\n# Create axes for each MUAP - one subplot grid per MUAP\naxes_list = []\nfor muap_idx in range(n_muaps):\n    fig, axes = plt.subplots(\n        electrode_rows, \n        electrode_cols,\n        figsize=(electrode_cols * 2, electrode_rows * 2),\n        sharex=True,\n        sharey=True\n    )\n    fig.suptitle(f\"MUAP {muap_idx}\")\n    axes_list.append(axes)\n\n# Plot MUAPs using the new API\nplot_muap_grid(muaps_concatenated[ :, :, :, 100:-100], axes_list, apply_default_formatting=True)\n\n# Show all plots\nplt.show()"
      ]
    }
  ],
  "metadata": {
    "kernelspec": {
      "display_name": "Python 3",
      "language": "python",
      "name": "python3"
    },
    "language_info": {
      "codemirror_mode": {
        "name": "ipython",
        "version": 3
      },
      "file_extension": ".py",
      "mimetype": "text/x-python",
      "name": "python",
      "nbconvert_exporter": "python",
      "pygments_lexer": "ipython3",
      "version": "3.12.7"
    }
  },
  "nbformat": 4,
  "nbformat_minor": 0
}