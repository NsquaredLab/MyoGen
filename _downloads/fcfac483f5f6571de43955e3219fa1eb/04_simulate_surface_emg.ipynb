{
  "cells": [
    {
      "cell_type": "code",
      "execution_count": null,
      "metadata": {
        "collapsed": false
      },
      "outputs": [],
      "source": [
        "%matplotlib inline"
      ]
    },
    {
      "cell_type": "markdown",
      "metadata": {},
      "source": [
        "\n# Surface EMG Signals\n\nAfter having created the **MUAPs**, we can finally simulate the **surface EMG** by creating a **surface EMG model**.\n\n<div class=\"alert alert-info\"><h4>Note</h4><p>The **surface EMG** signals are the **summation** of the **MUAPs** at the surface of the skin.\n\n    In **Myogen**, we can simulate the **surface EMG** by convolving the **MUAPs** with the **spike trains** of the **motor units**.</p></div>\n"
      ]
    },
    {
      "cell_type": "code",
      "execution_count": null,
      "metadata": {
        "collapsed": false
      },
      "outputs": [],
      "source": [
        "import shutil"
      ]
    },
    {
      "cell_type": "markdown",
      "metadata": {},
      "source": [
        "## Import Libraries\n\n"
      ]
    },
    {
      "cell_type": "code",
      "execution_count": null,
      "metadata": {
        "collapsed": false
      },
      "outputs": [],
      "source": [
        "from pathlib import Path\n\nimport joblib\nimport matplotlib\nimport numpy as np\nimport seaborn as sns\nfrom matplotlib import pyplot as plt"
      ]
    },
    {
      "cell_type": "markdown",
      "metadata": {},
      "source": [
        "## Load Muscle Model\n\n\n"
      ]
    },
    {
      "cell_type": "code",
      "execution_count": null,
      "metadata": {
        "collapsed": false
      },
      "outputs": [],
      "source": [
        "save_path = Path(\"./results\")\nmuscle = joblib.load(save_path / \"muscle_model.pkl\")"
      ]
    },
    {
      "cell_type": "markdown",
      "metadata": {},
      "source": [
        "## Load Motor Neuron Pool\n\n\n"
      ]
    },
    {
      "cell_type": "code",
      "execution_count": null,
      "metadata": {
        "collapsed": false
      },
      "outputs": [],
      "source": [
        "motor_neuron_pool = joblib.load(save_path / \"motor_neuron_pool.pkl\")"
      ]
    },
    {
      "cell_type": "markdown",
      "metadata": {},
      "source": [
        "## Load Surface EMG Model\n\n<div class=\"alert alert-info\"><h4>Note</h4><p>Because of computation time, we pre-computed the **surface EMG** model for 100 motor units.</p></div>\n\n"
      ]
    },
    {
      "cell_type": "code",
      "execution_count": null,
      "metadata": {
        "collapsed": false
      },
      "outputs": [],
      "source": [
        "surface_emg = joblib.load(save_path / \"surface_emg_100.pkl\")"
      ]
    },
    {
      "cell_type": "markdown",
      "metadata": {},
      "source": [
        "## Generate Surface EMG\n\nTo simulate the **surface EMG**, we need to run the ``simulate_surface_emg`` method of the **SurfaceEMG** object.\n\n"
      ]
    },
    {
      "cell_type": "code",
      "execution_count": null,
      "metadata": {
        "collapsed": false
      },
      "outputs": [],
      "source": [
        "surface_emg_signals = surface_emg.simulate_surface_emg(\n    motor_neuron_pool=motor_neuron_pool\n)\n\nprint(f\"Surface EMG simulation completed!\")\nprint(f\"Generated EMG shape: {surface_emg_signals.shape}\")\nprint(f\"  - {surface_emg_signals.shape[0]} pools\")\nprint(f\"  - {surface_emg_signals.shape[1]} electrode rows\")\nprint(f\"  - {surface_emg_signals.shape[2]} electrode columns\")\nprint(f\"  - {surface_emg_signals.shape[3]} time samples\")\n\n# Save the surface EMG results\njoblib.dump(surface_emg_signals, save_path / \"surface_emg_signals.pkl\")"
      ]
    },
    {
      "cell_type": "markdown",
      "metadata": {},
      "source": [
        "## Visualize Surface EMG Results\n\n<div class=\"alert alert-info\"><h4>Note</h4><p>Since **MyoGen** is a simulator, the results will have no real-world noise.\n\n  We can add noise to the **surface EMG** signals to make them more realistic.\n\n  For this the method ``add_noise`` is used.</p></div>\n\n"
      ]
    },
    {
      "cell_type": "code",
      "execution_count": null,
      "metadata": {
        "collapsed": false
      },
      "outputs": [],
      "source": [
        "surface_emg.add_noise(snr_db=10.0)\n\n# Load input current matrix\ninput_current_matrix = joblib.load(save_path / \"input_current_matrix.pkl\")\nshutil.rmtree(matplotlib.get_cachedir())\nwith plt.xkcd():\n    plt.rcParams.update({\"font.size\": 24})\n    # Create single plot with normalized signals\n    fig, ax = plt.subplots(figsize=(12, 6))\n    # Get the signals\n    emg_signal = surface_emg.noisy_surface_emg[0, 0, 3, 3]\n    current_signal = input_current_matrix[0]  # Only first current\n\n    # Normalize EMG by dividing by maximum\n    emg_normalized = emg_signal / np.max(emg_signal)\n\n    # Normalize current between 0 and 1\n    current_normalized = (current_signal - np.min(current_signal)) / (\n        np.max(current_signal) - np.min(current_signal)\n    )\n\n    # Plot both normalized signals on same axis\nax.plot(\n    motor_neuron_pool.times / 1000.0,\n    emg_normalized,\n    linewidth=2,\n    label=\"Surface EMG\",\n)\n\nwith plt.xkcd():\n    ax.plot(\n        motor_neuron_pool.times / 1000.0,\n        current_normalized,\n        linewidth=2,\n        label=\"Input Current\",\n        alpha=0.7,\n    )\n\n    ax.set_xlabel(\"Time (s)\")\n    ax.set_ylabel(\"Normalized Amplitude\")\n    ax.grid(True, alpha=0.3)\n    ax.legend()\n\n    sns.despine(trim=True, left=False, bottom=False, right=True, top=True, offset=5)\n\n    plt.title(\"Normalized Surface EMG and Input Current\")\n\nplt.tight_layout()\nplt.show()"
      ]
    }
  ],
  "metadata": {
    "kernelspec": {
      "display_name": "Python 3",
      "language": "python",
      "name": "python3"
    },
    "language_info": {
      "codemirror_mode": {
        "name": "ipython",
        "version": 3
      },
      "file_extension": ".py",
      "mimetype": "text/x-python",
      "name": "python",
      "nbconvert_exporter": "python",
      "pygments_lexer": "ipython3",
      "version": "3.12.7"
    }
  },
  "nbformat": 4,
  "nbformat_minor": 0
}