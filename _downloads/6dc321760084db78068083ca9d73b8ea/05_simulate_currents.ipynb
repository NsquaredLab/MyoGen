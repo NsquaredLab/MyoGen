{
  "cells": [
    {
      "cell_type": "code",
      "execution_count": null,
      "metadata": {
        "collapsed": false
      },
      "outputs": [],
      "source": [
        "%matplotlib inline"
      ]
    },
    {
      "cell_type": "markdown",
      "metadata": {},
      "source": [
        "\n# Current Generation\n\n**MyoGen** provides various functions to generate different types of input currents for motor neuron pool simulations.\nThese currents can be used to drive motor unit recruitment and firing patterns.\n\n<div class=\"alert alert-info\"><h4>Note</h4><p>**Input currents** are the electrical stimuli applied to motor neuron pools to simulate muscle activation.\n    Different current shapes can produce different recruitment and firing patterns.</p></div>\n\n**MyoGen** offers **5 different current waveform types**:\n\n* **Sinusoidal**: Smooth oscillatory currents for rhythmic activation\n* **Sawtooth**: Asymmetric ramp currents with adjustable rise/fall characteristics\n* **Step**: Constant amplitude pulses for simple on/off activation\n* **Ramp**: Linear increase/decrease for gradual force changes\n* **Trapezoid**: Complex waveforms with rise, plateau, and fall phases\n"
      ]
    },
    {
      "cell_type": "markdown",
      "metadata": {},
      "source": [
        "## Import Libraries\n\n"
      ]
    },
    {
      "cell_type": "code",
      "execution_count": null,
      "metadata": {
        "collapsed": false
      },
      "outputs": [],
      "source": [
        "from pathlib import Path\n\nimport joblib\nimport numpy as np\nfrom matplotlib import pyplot as plt\n\nfrom myogen.utils.currents import (\n    create_sinusoidal_current,\n    create_sawtooth_current,\n    create_step_current,\n    create_ramp_current,\n    create_trapezoid_current,\n)\nfrom myogen.utils.plotting.currents import plot_input_current__matrix"
      ]
    },
    {
      "cell_type": "markdown",
      "metadata": {},
      "source": [
        "## Define Parameters\nEach current simulation is defined by common timing parameters:\n\n- ``n_pools``: Number of motor neuron pools\n- ``simulation_duration__ms``: Total simulation time in milliseconds\n- ``timestep__ms``: Time step for simulation in milliseconds\n\nAdditional parameters are specific to each current type and control amplitude,\nfrequency, timing, and shape characteristics.\n\n"
      ]
    },
    {
      "cell_type": "code",
      "execution_count": null,
      "metadata": {
        "collapsed": false
      },
      "outputs": [],
      "source": [
        "# Common simulation parameters\nn_pools = 3\nsimulation_duration__ms = 2000.0  # 2 seconds\ntimestep__ms = 0.1  # 0.1 ms time step\nt_points = int(simulation_duration__ms / timestep__ms)\n\n# Create results directory\nsave_path = Path(\"./results\")\nsave_path.mkdir(exist_ok=True)"
      ]
    },
    {
      "cell_type": "markdown",
      "metadata": {},
      "source": [
        "## Generate Sinusoidal Currents\n\nSinusoidal currents are useful for simulating rhythmic muscle activations,\nsuch as those occurring during locomotion or tremor.\n\n"
      ]
    },
    {
      "cell_type": "code",
      "execution_count": null,
      "metadata": {
        "collapsed": false
      },
      "outputs": [],
      "source": [
        "print(\"Generating sinusoidal currents...\")\n\n# Parameters for sinusoidal currents\nsin_amplitudes = [50.0, 75.0, 100.0]  # Different amplitudes for each pool\nsin_frequencies = [1.0, 2.0, 3.0]  # Different frequencies (Hz)\nsin_offsets = [120.0, 130.0, 140.0]  # DC offsets (\u00b5V)\nsin_phases = [0.0, np.pi / 3, 2 * np.pi / 3]  # Phase shifts (rad)\n\nsinusoidal_currents = create_sinusoidal_current(\n    n_pools=n_pools,\n    t_points=t_points,\n    timestep__ms=timestep__ms,\n    amplitudes__muV=sin_amplitudes,\n    frequencies__Hz=sin_frequencies,\n    offsets__muV=sin_offsets,\n    phases__rad=sin_phases,\n)"
      ]
    },
    {
      "cell_type": "markdown",
      "metadata": {},
      "source": [
        "## Generate Sawtooth Currents\n\nSawtooth currents provide asymmetric ramps useful for simulating\nforce-variable contractions with different rise and fall characteristics.\n\n"
      ]
    },
    {
      "cell_type": "code",
      "execution_count": null,
      "metadata": {
        "collapsed": false
      },
      "outputs": [],
      "source": [
        "print(\"Generating sawtooth currents...\")\n\n# Parameters for sawtooth currents\nsaw_amplitudes = [80.0, 60.0, 100.0]\nsaw_frequencies = [0.5, 1.0, 1.5]  # Slow sawtooth waves\nsaw_offsets = [120.0, 125.0, 130.0]\nsaw_widths = [0.3, 0.5, 0.7]  # Width of rising edge (0-1)\n\nsawtooth_currents = create_sawtooth_current(\n    n_pools=n_pools,\n    t_points=t_points,\n    timestep_ms=timestep__ms,\n    amplitudes__muV=saw_amplitudes,\n    frequencies__Hz=saw_frequencies,\n    offsets__muV=saw_offsets,\n    widths=saw_widths,\n)"
      ]
    },
    {
      "cell_type": "markdown",
      "metadata": {},
      "source": [
        "## Generate Step Currents\n\nStep currents are useful for simulating sudden muscle activations,\nsuch as those occurring during ballistic movements.\n\n"
      ]
    },
    {
      "cell_type": "code",
      "execution_count": null,
      "metadata": {
        "collapsed": false
      },
      "outputs": [],
      "source": [
        "print(\"Generating step currents...\")\n\n# Parameters for step currents\nstep_heights = [100.0, 75.0, 125.0]  # Step amplitudes\nstep_durations = [500.0, 800.0, 300.0]  # Step durations (ms)\nstep_offsets = [120.0, 115.0, 125.0]  # Baseline currents\n\nstep_currents = create_step_current(\n    n_pools=n_pools,\n    t_points=t_points,\n    timestep_ms=timestep__ms,\n    step_heights__muV=step_heights,\n    step_durations__ms=step_durations,\n    offsets__muV=step_offsets,\n)"
      ]
    },
    {
      "cell_type": "markdown",
      "metadata": {},
      "source": [
        "## Generate Ramp Currents\n\nRamp currents simulate gradual force changes, useful for modeling\nslow force development or fatigue scenarios.\n\n"
      ]
    },
    {
      "cell_type": "code",
      "execution_count": null,
      "metadata": {
        "collapsed": false
      },
      "outputs": [],
      "source": [
        "print(\"Generating ramp currents...\")\n\n# Parameters for ramp currents\nramp_start = [0.0, 25.0, 50.0]  # Starting current levels\nramp_end = [150.0, 100.0, 200.0]  # Ending current levels\nramp_offsets = [120.0, 130.0, 110.0]  # DC offsets\n\nramp_currents = create_ramp_current(\n    n_pools=n_pools,\n    t_points=t_points,\n    start_currents__muV=ramp_start,\n    end_currents__muV=ramp_end,\n    offsets__muV=ramp_offsets,\n)"
      ]
    },
    {
      "cell_type": "markdown",
      "metadata": {},
      "source": [
        "## Generate Trapezoid Currents\n\nTrapezoid currents provide complex activation patterns with distinct\nphases: rise, plateau, and fall. These are useful for simulating\ncontrolled muscle contractions.\n\n"
      ]
    },
    {
      "cell_type": "code",
      "execution_count": null,
      "metadata": {
        "collapsed": false
      },
      "outputs": [],
      "source": [
        "print(\"Generating trapezoid currents...\")\n\n# Parameters for trapezoid currents\ntrap_amplitudes = [100.0, 80.0, 120.0]  # Peak amplitudes\ntrap_rise_times = [200.0, 150.0, 300.0]  # Rise durations (ms)\ntrap_plateau_times = [800.0, 1000.0, 600.0]  # Plateau durations (ms)\ntrap_fall_times = [300.0, 200.0, 400.0]  # Fall durations (ms)\ntrap_offsets = [120.0, 125.0, 115.0]  # Baseline currents\ntrap_delays = [100.0, 200.0, 50.0]  # Initial delays (ms)\n\ntrapezoid_currents = create_trapezoid_current(\n    n_pools=n_pools,\n    t_points=t_points,\n    timestep_ms=timestep__ms,\n    amplitudes__muV=trap_amplitudes,\n    rise_times__ms=trap_rise_times,\n    plateau_times__ms=trap_plateau_times,\n    fall_times__ms=trap_fall_times,\n    offsets__muV=trap_offsets,\n    delays__ms=trap_delays,\n)"
      ]
    },
    {
      "cell_type": "markdown",
      "metadata": {},
      "source": [
        "## Save Current Matrices\n\n<div class=\"alert alert-info\"><h4>Note</h4><p>All **MyoGen** current matrices can be saved to files using ``joblib``.\n   This is useful to **avoid re-generating currents** if you need to use\n   the same parameters in multiple simulations.</p></div>\n\n"
      ]
    },
    {
      "cell_type": "code",
      "execution_count": null,
      "metadata": {
        "collapsed": false
      },
      "outputs": [],
      "source": [
        "print(\"Saving current matrices...\")\n\njoblib.dump(sinusoidal_currents, save_path / \"sinusoidal_currents.pkl\")\njoblib.dump(sawtooth_currents, save_path / \"sawtooth_currents.pkl\")\njoblib.dump(step_currents, save_path / \"step_currents.pkl\")\njoblib.dump(ramp_currents, save_path / \"ramp_currents.pkl\")\njoblib.dump(trapezoid_currents, save_path / \"trapezoid_currents.pkl\")"
      ]
    },
    {
      "cell_type": "markdown",
      "metadata": {},
      "source": [
        "## Plot Current Waveforms\n\nThe current waveforms can be visualized to understand their characteristics\nand verify they match the intended stimulation patterns.\n\n<div class=\"alert alert-info\"><h4>Note</h4><p>**Plotting helper functions** are available in the ``myogen.utils.plotting`` module.\n\n```python\nfrom myogen.utils.plotting.currents import plot_input_currents</p></div>\n```\n"
      ]
    },
    {
      "cell_type": "code",
      "execution_count": null,
      "metadata": {
        "collapsed": false
      },
      "outputs": [],
      "source": [
        "# Suppress font warnings to keep output clean\nimport warnings\nimport logging\n\nwarnings.filterwarnings(\"ignore\", message=\".*Font family.*not found.*\")\nwarnings.filterwarnings(\"ignore\", message=\".*findfont.*\")\nlogging.getLogger(\"matplotlib.font_manager\").setLevel(logging.ERROR)"
      ]
    },
    {
      "cell_type": "markdown",
      "metadata": {},
      "source": [
        "### Sinusoidal Currents Visualization\n\nSinusoidal currents show smooth oscillations with different frequencies\nand phase relationships between pools.\n\n"
      ]
    },
    {
      "cell_type": "code",
      "execution_count": null,
      "metadata": {
        "collapsed": false
      },
      "outputs": [],
      "source": [
        "print(\"Plotting sinusoidal currents...\")\nwith plt.xkcd():\n    _, axs = plt.subplots(figsize=(10, 6), nrows=n_pools, sharex=True)\n    plot_input_current__matrix(sinusoidal_currents, timestep__ms, axs, color=\"#90b8e0\")\nplt.tight_layout()\nplt.show()"
      ]
    },
    {
      "cell_type": "markdown",
      "metadata": {},
      "source": [
        "### Sawtooth Currents Visualization\n\nSawtooth currents demonstrate asymmetric ramps with different widths\ncontrolling the rise/fall characteristics.\n\n"
      ]
    },
    {
      "cell_type": "code",
      "execution_count": null,
      "metadata": {
        "collapsed": false
      },
      "outputs": [],
      "source": [
        "print(\"Plotting sawtooth currents...\")\nwith plt.xkcd():\n    _, axs = plt.subplots(figsize=(10, 6), nrows=n_pools, sharex=True)\n    plot_input_current__matrix(sawtooth_currents, timestep__ms, axs, color=\"#90b8e0\")\nplt.tight_layout()\nplt.show()"
      ]
    },
    {
      "cell_type": "markdown",
      "metadata": {},
      "source": [
        "### Step Currents Visualization\n\nStep currents show sudden changes in amplitude with different durations\nfor each pool.\n\n"
      ]
    },
    {
      "cell_type": "code",
      "execution_count": null,
      "metadata": {
        "collapsed": false
      },
      "outputs": [],
      "source": [
        "print(\"Plotting step currents...\")\nwith plt.xkcd():\n    _, axs = plt.subplots(figsize=(10, 6), nrows=n_pools, sharex=True)\n    plot_input_current__matrix(step_currents, timestep__ms, axs, color=\"#90b8e0\")\nplt.tight_layout()\nplt.show()"
      ]
    },
    {
      "cell_type": "markdown",
      "metadata": {},
      "source": [
        "### Ramp Currents Visualization\n\nRamp currents demonstrate linear changes from start to end values\nwith different slopes for each pool.\n\n"
      ]
    },
    {
      "cell_type": "code",
      "execution_count": null,
      "metadata": {
        "collapsed": false
      },
      "outputs": [],
      "source": [
        "print(\"Plotting ramp currents...\")\nwith plt.xkcd():\n    _, axs = plt.subplots(figsize=(10, 6), nrows=n_pools, sharex=True)\n    plot_input_current__matrix(ramp_currents, timestep__ms, axs, color=\"#90b8e0\")\nplt.tight_layout()\nplt.show()"
      ]
    },
    {
      "cell_type": "markdown",
      "metadata": {},
      "source": [
        "### Trapezoid Currents Visualization\n\nTrapezoid currents show complex multi-phase patterns with distinct\nrise, plateau, and fall periods.\n\n"
      ]
    },
    {
      "cell_type": "code",
      "execution_count": null,
      "metadata": {
        "collapsed": false
      },
      "outputs": [],
      "source": [
        "print(\"Plotting trapezoid currents...\")\nwith plt.xkcd():\n    _, axs = plt.subplots(figsize=(10, 6), nrows=n_pools, sharex=True)\n    plot_input_current__matrix(trapezoid_currents, timestep__ms, axs, color=\"#90b8e0\")\nplt.tight_layout()\nplt.show()"
      ]
    }
  ],
  "metadata": {
    "kernelspec": {
      "display_name": "Python 3",
      "language": "python",
      "name": "python3"
    },
    "language_info": {
      "codemirror_mode": {
        "name": "ipython",
        "version": 3
      },
      "file_extension": ".py",
      "mimetype": "text/x-python",
      "name": "python",
      "nbconvert_exporter": "python",
      "pygments_lexer": "ipython3",
      "version": "3.12.7"
    }
  },
  "nbformat": 4,
  "nbformat_minor": 0
}